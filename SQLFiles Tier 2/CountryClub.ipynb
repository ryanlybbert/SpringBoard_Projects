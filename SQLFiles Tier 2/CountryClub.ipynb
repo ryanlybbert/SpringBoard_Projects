{
 "cells": [
  {
   "cell_type": "code",
   "execution_count": 1,
   "metadata": {},
   "outputs": [],
   "source": [
    "from sqlalchemy import create_engine\n",
    "\n",
    "engine = create_engine('sqlite:///sqlite_db_pythonsqlite.db')"
   ]
  },
  {
   "cell_type": "code",
   "execution_count": 2,
   "metadata": {},
   "outputs": [],
   "source": [
    "conn = engine.connect()"
   ]
  },
  {
   "cell_type": "code",
   "execution_count": 3,
   "metadata": {},
   "outputs": [
    {
     "name": "stdout",
     "output_type": "stream",
     "text": [
      "['Bookings', 'Facilities', 'Members']\n",
      "['bookid', 'facid', 'memid', 'starttime', 'slots']\n",
      "['facid', 'name', 'membercost', 'guestcost', 'initialoutlay', 'monthlymaintenance']\n",
      "['memid', 'surname', 'firstname', 'address', 'zipcode', 'telephone', 'recommendedby', 'joindate']\n"
     ]
    }
   ],
   "source": [
    "#for quick reference\n",
    "t = engine.table_names()\n",
    "print(t)\n",
    "book_col = conn.execute('SELECT * FROM Bookings;')\n",
    "fac_col = conn.execute('SELECT * FROM Facilities;')\n",
    "mem_col = conn.execute('SELECT * FROM Members;')\n",
    "print(book_col.keys())\n",
    "print(fac_col.keys())\n",
    "print(mem_col.keys())"
   ]
  },
  {
   "cell_type": "code",
   "execution_count": 4,
   "metadata": {},
   "outputs": [
    {
     "data": {
      "text/plain": [
       "[('Tennis Court 1', 4040),\n",
       " ('Tennis Court 2', 4205),\n",
       " ('Squash Court', 4970.0),\n",
       " ('Massage Room 2', 6987.3),\n",
       " ('Massage Room 1', 20807.9)]"
      ]
     },
     "execution_count": 4,
     "metadata": {},
     "output_type": "execute_result"
    }
   ],
   "source": [
    "#Q10: Produce a list of facilities with a total revenue less than 1000.\n",
    "#The output of facility name and total revenue, sorted by revenue. Remember\n",
    "#that there's a different cost for guests and members!\n",
    "\n",
    "qx = conn.execute('SELECT f.name, ((f.membercost * memrev) + (f.guestcost * guestrev)) AS revenue FROM Bookings AS b INNER JOIN Facilities AS f ON b.facid = f.facid INNER JOIN (SELECT facid, COUNT(facid) AS memrev FROM Bookings WHERE memid <> 0 GROUP BY facid) AS mr ON b.facid = mr.facid INNER JOIN (SELECT facid, COUNT(facid) AS guestrev FROM Bookings WHERE memid = 0 GROUP BY facid) AS gr ON b.facid = gr.facid GROUP BY f.name HAVING revenue > 1000 ORDER BY revenue')\n",
    "                  \n",
    "qx.fetchall()"
   ]
  },
  {
   "cell_type": "code",
   "execution_count": 5,
   "metadata": {},
   "outputs": [
    {
     "data": {
      "text/plain": [
       "[('Florence', 'Bader', 'Ponder Stibbons'),\n",
       " ('Anne', 'Baker', 'Ponder Stibbons'),\n",
       " ('Timothy', 'Baker', 'Jemima Farrell'),\n",
       " ('Tim', 'Boothe', 'Tim Rownam'),\n",
       " ('Gerald', 'Butters', 'Darren Smith'),\n",
       " ('Joan', 'Coplin', 'Timothy Baker'),\n",
       " ('Erica', 'Crumpet', 'Tracy Smith'),\n",
       " ('Nancy', 'Dare', 'Janice Joplette'),\n",
       " ('Matthew', 'Genting', 'Gerald Butters'),\n",
       " ('John', 'Hunt', 'Millicent Purview'),\n",
       " ('David', 'Jones', 'Janice Joplette'),\n",
       " ('Douglas', 'Jones', 'David Jones'),\n",
       " ('Janice', 'Joplette', 'Darren Smith'),\n",
       " ('Anna', 'Mackenzie', 'Darren Smith'),\n",
       " ('Charles', 'Owen', 'Darren Smith'),\n",
       " ('David', 'Pinker', 'Jemima Farrell'),\n",
       " ('Millicent', 'Purview', 'Tracy Smith'),\n",
       " ('Henrietta', 'Rumney', 'Matthew Genting'),\n",
       " ('Ramnaresh', 'Sarwin', 'Florence Bader'),\n",
       " ('Jack', 'Smith', 'Darren Smith'),\n",
       " ('Ponder', 'Stibbons', 'Burton Tracy'),\n",
       " ('Henry', 'Worthington-Smyth', 'Tracy Smith')]"
      ]
     },
     "execution_count": 5,
     "metadata": {},
     "output_type": "execute_result"
    }
   ],
   "source": [
    "#Q11: Produce a report of members and who recommended them in alphabetic surname,firstname order\n",
    "\n",
    "qxi = conn.execute('SELECT m.firstname, m.surname, (r.firstname || \" \" || r.surname) AS recommended_by FROM Members AS m INNER JOIN (SELECT memid, firstname, surname FROM Members) AS r ON r.memid = m.recommendedby ORDER BY m.surname, m.firstname')\n",
    "\n",
    "qxi.fetchall()"
   ]
  },
  {
   "cell_type": "code",
   "execution_count": 6,
   "metadata": {},
   "outputs": [
    {
     "data": {
      "text/plain": [
       "[('Massage Room 2', 27),\n",
       " ('Squash Court', 195),\n",
       " ('Tennis Court 2', 276),\n",
       " ('Tennis Court 1', 308),\n",
       " ('Badminton Court', 344),\n",
       " ('Table Tennis', 385),\n",
       " ('Massage Room 1', 421),\n",
       " ('Snooker Table', 421),\n",
       " ('Pool Table', 783)]"
      ]
     },
     "execution_count": 6,
     "metadata": {},
     "output_type": "execute_result"
    }
   ],
   "source": [
    "#Q12: Find the facilities with their usage by member, but not guests\n",
    "qxii = conn.execute('SELECT f.name, COUNT(bookid) AS usage FROM Bookings AS b INNER JOIN Facilities AS f ON f.facid=b.facid WHERE memid <> 0 GROUP BY f.name ORDER BY usage')\n",
    "\n",
    "qxii.fetchall()"
   ]
  },
  {
   "cell_type": "code",
   "execution_count": 7,
   "metadata": {},
   "outputs": [
    {
     "data": {
      "text/plain": [
       "[('Massage Room 2', 4, 'JULY'),\n",
       " ('Squash Court', 23, 'JULY'),\n",
       " ('Tennis Court 2', 41, 'JULY'),\n",
       " ('Table Tennis', 48, 'JULY'),\n",
       " ('Badminton Court', 51, 'JULY'),\n",
       " ('Tennis Court 1', 65, 'JULY'),\n",
       " ('Snooker Table', 68, 'JULY'),\n",
       " ('Massage Room 1', 77, 'JULY'),\n",
       " ('Pool Table', 103, 'JULY'),\n",
       " ('Massage Room 2', 9, 'AUGUST'),\n",
       " ('Squash Court', 85, 'AUGUST'),\n",
       " ('Tennis Court 2', 109, 'AUGUST'),\n",
       " ('Tennis Court 1', 111, 'AUGUST'),\n",
       " ('Badminton Court', 132, 'AUGUST'),\n",
       " ('Table Tennis', 143, 'AUGUST'),\n",
       " ('Massage Room 1', 153, 'AUGUST'),\n",
       " ('Snooker Table', 154, 'AUGUST'),\n",
       " ('Pool Table', 272, 'AUGUST'),\n",
       " ('Massage Room 2', 14, 'SEPTEMBER'),\n",
       " ('Squash Court', 87, 'SEPTEMBER'),\n",
       " ('Tennis Court 2', 126, 'SEPTEMBER'),\n",
       " ('Tennis Court 1', 132, 'SEPTEMBER'),\n",
       " ('Badminton Court', 161, 'SEPTEMBER'),\n",
       " ('Massage Room 1', 191, 'SEPTEMBER'),\n",
       " ('Table Tennis', 194, 'SEPTEMBER'),\n",
       " ('Snooker Table', 199, 'SEPTEMBER'),\n",
       " ('Pool Table', 408, 'SEPTEMBER')]"
      ]
     },
     "execution_count": 7,
     "metadata": {},
     "output_type": "execute_result"
    }
   ],
   "source": [
    "#Q13: Find the facilities usage by month, but not guests\n",
    "qxiii = conn.execute('SELECT f.name, COUNT(bookid) AS usage, CASE WHEN strftime(\"%m\", starttime) = \"07\" THEN \"JULY\" WHEN strftime(\"%m\", starttime) = \"08\" THEN \"AUGUST\"  WHEN strftime(\"%m\", starttime) = \"09\" THEN \"SEPTEMBER\" END AS month FROM Bookings AS b INNER JOIN Facilities AS f ON f.facid=b.facid WHERE memid <> 0 GROUP BY month, f.name ORDER BY strftime(\"%m\", starttime), usage')\n",
    "\n",
    "qxiii.fetchall()"
   ]
  },
  {
   "cell_type": "code",
   "execution_count": 8,
   "metadata": {},
   "outputs": [],
   "source": [
    "conn.close()"
   ]
  }
 ],
 "metadata": {
  "kernelspec": {
   "display_name": "Python 3",
   "language": "python",
   "name": "python3"
  },
  "language_info": {
   "codemirror_mode": {
    "name": "ipython",
    "version": 3
   },
   "file_extension": ".py",
   "mimetype": "text/x-python",
   "name": "python",
   "nbconvert_exporter": "python",
   "pygments_lexer": "ipython3",
   "version": "3.8.3"
  }
 },
 "nbformat": 4,
 "nbformat_minor": 4
}
