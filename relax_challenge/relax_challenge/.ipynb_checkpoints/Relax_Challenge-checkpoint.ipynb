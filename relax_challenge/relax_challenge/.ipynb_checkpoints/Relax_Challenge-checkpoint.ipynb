{
 "cells": [
  {
   "cell_type": "code",
   "execution_count": 1,
   "metadata": {},
   "outputs": [],
   "source": [
    "import pandas as pd\n",
    "import numpy as np\n",
    "import matplotlib.pyplot as plt\n",
    "import datetime\n",
    "from sklearn.model_selection import train_test_split\n",
    "from sklearn.linear_model import LogisticRegression\n",
    "from sklearn.metrics import accuracy_score, confusion_matrix\n",
    "from sklearn import preprocessing"
   ]
  },
  {
   "cell_type": "markdown",
   "metadata": {},
   "source": [
    "Goals:\n",
    "Define an adopted user as someone who has logged in on 3 days of a 7 days period.\n",
    "Identify which factors best predict user adoption.\n",
    "Write a 1 page summary on results, along with any graphs or code to help explain my approach."
   ]
  },
  {
   "cell_type": "code",
   "execution_count": 2,
   "metadata": {},
   "outputs": [
    {
     "name": "stdout",
     "output_type": "stream",
     "text": [
      "                 creation_time               name                       email  \\\n",
      "object_id                                                                       \n",
      "1          2014-04-22 03:53:30     Clausen August    AugustCClausen@yahoo.com   \n",
      "2          2013-11-15 03:45:04      Poole Matthew      MatthewPoole@gustr.com   \n",
      "3          2013-03-19 23:14:52  Bottrill Mitchell  MitchellBottrill@gustr.com   \n",
      "4          2013-05-21 08:09:28    Clausen Nicklas   NicklasSClausen@yahoo.com   \n",
      "5          2013-01-17 10:14:20          Raw Grace          GraceRaw@yahoo.com   \n",
      "\n",
      "          creation_source  last_session_creation_time  \\\n",
      "object_id                                               \n",
      "1            GUEST_INVITE                1.398139e+09   \n",
      "2              ORG_INVITE                1.396238e+09   \n",
      "3              ORG_INVITE                1.363735e+09   \n",
      "4            GUEST_INVITE                1.369210e+09   \n",
      "5            GUEST_INVITE                1.358850e+09   \n",
      "\n",
      "           opted_in_to_mailing_list  enabled_for_marketing_drip  org_id  \\\n",
      "object_id                                                                 \n",
      "1                                 1                           0      11   \n",
      "2                                 0                           0       1   \n",
      "3                                 0                           0      94   \n",
      "4                                 0                           0       1   \n",
      "5                                 0                           0     193   \n",
      "\n",
      "           invited_by_user_id  \n",
      "object_id                      \n",
      "1                     10803.0  \n",
      "2                       316.0  \n",
      "3                      1525.0  \n",
      "4                      5151.0  \n",
      "5                      5240.0  \n",
      "            time_stamp  user_id  visited\n",
      "0  2014-04-22 03:53:30        1        1\n",
      "1  2013-11-15 03:45:04        2        1\n",
      "2  2013-11-29 03:45:04        2        1\n",
      "3  2013-12-09 03:45:04        2        1\n",
      "4  2013-12-25 03:45:04        2        1\n"
     ]
    }
   ],
   "source": [
    "#check columns of available data\n",
    "users_df = pd.read_csv('takehome_users.csv', header=0, index_col=0, encoding='latin-1')\n",
    "engagement_df = pd.read_csv('takehome_user_engagement.csv', header=0, encoding='latin-1')\n",
    "\n",
    "print(users_df.head())\n",
    "print(engagement_df.head())"
   ]
  },
  {
   "cell_type": "code",
   "execution_count": 3,
   "metadata": {},
   "outputs": [
    {
     "name": "stdout",
     "output_type": "stream",
     "text": [
      "   user_id       creation_time  visited\n",
      "0        1 2014-04-22 03:53:30        1\n",
      "1        2 2013-11-15 03:45:04       14\n",
      "2        3 2013-03-19 23:14:52        1\n",
      "3        4 2013-05-22 08:09:28        1\n",
      "4        5 2013-01-22 10:14:20        1\n",
      "5        6 2013-12-19 03:37:06        1\n",
      "6        7 2012-12-20 13:24:32        1\n",
      "7       10 2013-01-16 22:08:03      284\n",
      "8       11 2013-12-27 03:55:54        1\n",
      "9       13 2014-03-30 16:19:38        1\n"
     ]
    }
   ],
   "source": [
    "#prep engagement table for merge\n",
    "users_df['creation_time'] = pd.to_datetime(users_df['creation_time'])\n",
    "engagement_df['time_stamp'] = pd.to_datetime(engagement_df['time_stamp'])\n",
    "\n",
    "users_df = users_df.sort_values(by='creation_time', ascending=True)\n",
    "engagement_df = engagement_df.sort_values(by='time_stamp', ascending=True)\n",
    "\n",
    "engagement_df_agg = engagement_df.groupby(by='user_id').min()\n",
    "engagement_df_agg['visited'] = engagement_df.groupby(by='user_id').sum()['visited']\n",
    "engagement_df_agg.rename(columns={'time_stamp':'creation_time'}, inplace=True)\n",
    "engagement_df_agg.reset_index(inplace=True)\n",
    "print(engagement_df_agg.head(10))"
   ]
  },
  {
   "cell_type": "code",
   "execution_count": 4,
   "metadata": {},
   "outputs": [
    {
     "name": "stderr",
     "output_type": "stream",
     "text": [
      "<ipython-input-4-5324d9940690>:12: SettingWithCopyWarning: \n",
      "A value is trying to be set on a copy of a slice from a DataFrame\n",
      "\n",
      "See the caveats in the documentation: https://pandas.pydata.org/pandas-docs/stable/user_guide/indexing.html#returning-a-view-versus-a-copy\n",
      "  engagement_df_agg['adopted'][engagement_df_agg['user_id']==user_id] = True\n"
     ]
    },
    {
     "name": "stdout",
     "output_type": "stream",
     "text": [
      "    user_id       creation_time  visited  adopted\n",
      "1         2 2013-11-15 03:45:04       14     True\n",
      "7        10 2013-01-16 22:08:03      284     True\n",
      "13       20 2014-03-11 11:46:38        7     True\n",
      "24       33 2014-03-11 06:29:09       18     True\n",
      "28       42 2012-11-13 19:05:07      342     True\n"
     ]
    }
   ],
   "source": [
    "#need to figure out who is considered to be an adopted user (3 visits within one 7-day period)\n",
    "engagement_df_agg['adopted'] = False\n",
    "potentially_adopted = engagement_df_agg['user_id'][engagement_df_agg['visited']>=3]\n",
    "\n",
    "week = datetime.timedelta(weeks=1)\n",
    "\n",
    "for user_id in potentially_adopted:\n",
    "    dates = engagement_df['time_stamp'][engagement_df['user_id']==user_id]\n",
    "    \n",
    "    for i in dates[:-2].index:\n",
    "        if(dates[i+2]-dates[i] >= week):\n",
    "            engagement_df_agg['adopted'][engagement_df_agg['user_id']==user_id] = True\n",
    "            break\n",
    "\n",
    "print(engagement_df_agg[engagement_df_agg['adopted']==True].head())"
   ]
  },
  {
   "cell_type": "code",
   "execution_count": 12,
   "metadata": {},
   "outputs": [
    {
     "name": "stdout",
     "output_type": "stream",
     "text": [
      "        creation_time              name                       email  \\\n",
      "0 2012-05-31 08:20:06    Spikes Danille  DanilleJSpikes@hotmail.com   \n",
      "1 2012-05-31 15:47:36     Spears Arthur     ArthurJSpears@gmail.com   \n",
      "2 2012-05-31 17:19:37   Jørgensen Sofie    SofieNJrgensen@yahoo.com   \n",
      "3 2012-05-31 21:58:33   Faulkner Hayden    HaydenFaulkner@gmail.com   \n",
      "4 2012-06-01 00:17:30  Morrison Natasha   NatashaMorrison@gustr.com   \n",
      "\n",
      "      creation_source  last_session_creation_time  opted_in_to_mailing_list  \\\n",
      "0          ORG_INVITE                1.338452e+09                         0   \n",
      "1  SIGNUP_GOOGLE_AUTH                1.352822e+09                         1   \n",
      "2          ORG_INVITE                1.338485e+09                         0   \n",
      "3  SIGNUP_GOOGLE_AUTH                1.399932e+09                         0   \n",
      "4          ORG_INVITE                1.339719e+09                         0   \n",
      "\n",
      "   enabled_for_marketing_drip  org_id  invited_by_user_id  user_id  visited  \\\n",
      "0                           1     225              7104.0    10012        1   \n",
      "1                           0     166                 NaN     3428       14   \n",
      "2                           0     138              9899.0     9899        1   \n",
      "3                           1      50                 NaN     1693      289   \n",
      "4                           0      34              6102.0     6102        2   \n",
      "\n",
      "   adopted  \n",
      "0    False  \n",
      "1     True  \n",
      "2    False  \n",
      "3     True  \n",
      "4    False  \n"
     ]
    }
   ],
   "source": [
    "#merge tables\n",
    "joined_df = users_df.merge(engagement_df_agg, on='creation_time')\n",
    "print(joined_df.head())"
   ]
  },
  {
   "cell_type": "code",
   "execution_count": 13,
   "metadata": {},
   "outputs": [],
   "source": [
    "#prep for modeling\n",
    "joined_df = pd.get_dummies(joined_df, columns=['creation_source'])\n",
    "y = joined_df['adopted']\n",
    "X = joined_df\n",
    "X['year'] = X['creation_time'].apply(lambda x: x.year)\n",
    "X['month'] = X['creation_time'].apply(lambda x: x.month)\n",
    "X['day'] = X['creation_time'].apply(lambda x: x.day)\n",
    "X['weekday'] = X['creation_time'].apply(lambda x: x.weekday())\n",
    "X['hour'] = X['creation_time'].apply(lambda x: x.hour)\n",
    "X['minute'] = X['creation_time'].apply(lambda x: x.minute)\n",
    "X['second'] = X['creation_time'].apply(lambda x: x.second)\n",
    "X['invited_by_user_id'] = X['invited_by_user_id'].notna() #just want to know if they were invited by someone else or not\n",
    "\n",
    "#X['last_session_creation_time'] = X['last_session_creation_time'].notna()\n",
    "X['last_session_creation_time'] = X['last_session_creation_time'].fillna(1)\n",
    "#X['last_session_creation_time'] = X['last_session_creation_time'].apply(lambda x: np.log(x))\n",
    "\n",
    "X = X.drop(columns=['adopted', 'name', 'email', 'creation_time', 'user_id', 'visited', 'org_id'])"
   ]
  },
  {
   "cell_type": "code",
   "execution_count": 14,
   "metadata": {},
   "outputs": [],
   "source": [
    "X_train, X_test, y_train, y_test = train_test_split(X, y)\n",
    "scaler = preprocessing.StandardScaler().fit_transform(X_train)"
   ]
  },
  {
   "cell_type": "code",
   "execution_count": 15,
   "metadata": {},
   "outputs": [
    {
     "name": "stdout",
     "output_type": "stream",
     "text": [
      "0.7435661764705882\n",
      "[[809 279]\n",
      " [  0   0]]\n",
      "last_session_creation_time -0.008169888862001753\n",
      "opted_in_to_mailing_list 0.04762551734077864\n",
      "enabled_for_marketing_drip 0.051438916878316365\n",
      "invited_by_user_id 0.1555957347047609\n",
      "creation_source_GUEST_INVITE 0.2746192466636301\n",
      "creation_source_ORG_INVITE -0.11902351195896527\n",
      "creation_source_PERSONAL_PROJECTS 0.11671468369528643\n",
      "creation_source_SIGNUP -0.07889222051892769\n",
      "creation_source_SIGNUP_GOOGLE_AUTH -0.19301694523915897\n",
      "year -0.0005126788579250498\n",
      "month 0.020231763602281315\n",
      "day -0.006630439744021794\n",
      "weekday 0.005656719178833185\n",
      "hour -0.0028678618676720538\n",
      "minute -0.0031733417787054904\n",
      "second 0.0011763570113700159\n",
      "-0.19301694523915897 0.2746192466636301\n"
     ]
    }
   ],
   "source": [
    "#train and test model\n",
    "model = LogisticRegression(penalty='l2', max_iter=1000, random_state=1020)\n",
    "model.fit(X_train, y_train)\n",
    "y_pred = model.predict(X_test)\n",
    "print(accuracy_score(y_pred, y_test))\n",
    "print(confusion_matrix(y_pred, y_test))\n",
    "\n",
    "for i in range(len(X.columns)):\n",
    "    print(X.columns[i], model.coef_[0][i])\n",
    "    \n",
    "print(min(model.coef_[0]), max(model.coef_[0]))"
   ]
  }
 ],
 "metadata": {
  "kernelspec": {
   "display_name": "Python 3",
   "language": "python",
   "name": "python3"
  },
  "language_info": {
   "codemirror_mode": {
    "name": "ipython",
    "version": 3
   },
   "file_extension": ".py",
   "mimetype": "text/x-python",
   "name": "python",
   "nbconvert_exporter": "python",
   "pygments_lexer": "ipython3",
   "version": "3.8.3"
  }
 },
 "nbformat": 4,
 "nbformat_minor": 4
}
