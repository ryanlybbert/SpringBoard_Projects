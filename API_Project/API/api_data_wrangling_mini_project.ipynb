{
 "cells": [
  {
   "cell_type": "markdown",
   "metadata": {},
   "source": [
    "This exercise will require you to pull some data from the Qunadl API. Qaundl is currently the most widely used aggregator of financial market data."
   ]
  },
  {
   "cell_type": "markdown",
   "metadata": {},
   "source": [
    "As a first step, you will need to register a free account on the http://www.quandl.com website."
   ]
  },
  {
   "cell_type": "markdown",
   "metadata": {},
   "source": [
    "After you register, you will be provided with a unique API key, that you should store:"
   ]
  },
  {
   "cell_type": "code",
   "execution_count": 1,
   "metadata": {},
   "outputs": [],
   "source": [
    "# Store the API key as a string - according to PEP8, constants are always named in all upper case\n",
    "API_KEY = ''"
   ]
  },
  {
   "cell_type": "markdown",
   "metadata": {},
   "source": [
    "Qaundl has a large number of data sources, but, unfortunately, most of them require a Premium subscription. Still, there are also a good number of free datasets."
   ]
  },
  {
   "cell_type": "markdown",
   "metadata": {},
   "source": [
    "For this mini project, we will focus on equities data from the Frankfurt Stock Exhange (FSE), which is available for free. We'll try and analyze the stock prices of a company called Carl Zeiss Meditec, which manufactures tools for eye examinations, as well as medical lasers for laser eye surgery: https://www.zeiss.com/meditec/int/home.html. The company is listed under the stock ticker AFX_X."
   ]
  },
  {
   "cell_type": "markdown",
   "metadata": {},
   "source": [
    "You can find the detailed Quandl API instructions here: https://docs.quandl.com/docs/time-series"
   ]
  },
  {
   "cell_type": "markdown",
   "metadata": {},
   "source": [
    "While there is a dedicated Python package for connecting to the Quandl API, we would prefer that you use the *requests* package, which can be easily downloaded using *pip* or *conda*. You can find the documentation for the package here: http://docs.python-requests.org/en/master/ "
   ]
  },
  {
   "cell_type": "markdown",
   "metadata": {},
   "source": [
    "Finally, apart from the *requests* package, you are encouraged to not use any third party Python packages, such as *pandas*, and instead focus on what's available in the Python Standard Library (the *collections* module might come in handy: https://pymotw.com/3/collections/ ).\n",
    "Also, since you won't have access to DataFrames, you are encouraged to us Python's native data structures - preferably dictionaries, though some questions can also be answered using lists.\n",
    "You can read more on these data structures here: https://docs.python.org/3/tutorial/datastructures.html"
   ]
  },
  {
   "cell_type": "markdown",
   "metadata": {},
   "source": [
    "Keep in mind that the JSON responses you will be getting from the API map almost one-to-one to Python's dictionaries. Unfortunately, they can be very nested, so make sure you read up on indexing dictionaries in the documentation provided above."
   ]
  },
  {
   "cell_type": "code",
   "execution_count": 2,
   "metadata": {},
   "outputs": [],
   "source": [
    "# First, import the relevant modules\n",
    "import requests\n",
    "import collections\n"
   ]
  },
  {
   "cell_type": "code",
   "execution_count": 3,
   "metadata": {},
   "outputs": [],
   "source": [
    "# Now, call the Quandl API and pull out a small sample of the data (only one day) to get a glimpse\n",
    "# into the JSON structure that will be returned\n",
    "date = \"2020-07-09\"\n",
    "r = requests.get(\"https://www.quandl.com/api/v3/datatables/ETFG/FUND.json?date=\"+ date +\"&api_key=\"+ API_KEY)\n"
   ]
  },
  {
   "cell_type": "code",
   "execution_count": 4,
   "metadata": {},
   "outputs": [
    {
     "data": {
      "text/plain": [
       "{'datatable': {'data': [],\n",
       "  'columns': [{'name': 'date', 'type': 'Date'},\n",
       "   {'name': 'ticker', 'type': 'String'},\n",
       "   {'name': 'shares_outstanding', 'type': 'BigDecimal(36,14)'},\n",
       "   {'name': 'nav', 'type': 'BigDecimal(36,14)'},\n",
       "   {'name': 'flow_daily', 'type': 'BigDecimal(36,14)'},\n",
       "   {'name': 'as_of_date', 'type': 'Date'}]},\n",
       " 'meta': {'next_cursor_id': None}}"
      ]
     },
     "execution_count": 4,
     "metadata": {},
     "output_type": "execute_result"
    }
   ],
   "source": [
    "# Inspect the JSON structure of the object you created, and take note of how nested it is,\n",
    "# as well as the overall structure\n",
    "r.json()\n"
   ]
  },
  {
   "cell_type": "markdown",
   "metadata": {},
   "source": [
    "These are your tasks for this mini project:\n",
    "\n",
    "1. Collect data from the Franfurt Stock Exchange, for the ticker AFX_X, for the whole year 2017 (keep in mind that the date format is YYYY-MM-DD).\n",
    "2. Convert the returned JSON object into a Python dictionary.\n",
    "3. Calculate what the highest and lowest opening prices were for the stock in this period.\n",
    "4. What was the largest change in any one day (based on High and Low price)?\n",
    "5. What was the largest change between any two days (based on Closing Price)?\n",
    "6. What was the average daily trading volume during this year?\n",
    "7. (Optional) What was the median trading volume during this year. (Note: you may need to implement your own function for calculating the median.)"
   ]
  },
  {
   "cell_type": "code",
   "execution_count": 5,
   "metadata": {},
   "outputs": [
    {
     "name": "stdout",
     "output_type": "stream",
     "text": [
      "The lowest open price was  34.0\n",
      "The highest open price was  53.11\n",
      "The largest change in one day is  2.8100000000000023\n",
      "The largest change in closing prices between days is  2.559999999999995\n",
      "The average traded volume is  89124.33725490196\n",
      "The median traded volume is  76600.0\n"
     ]
    }
   ],
   "source": [
    "year = \"start_date=2017-01-01&end_date=2017-12-31\"\n",
    "req = requests.get(\"https://www.quandl.com/api/v3/datasets/FSE/AFX_X/data.json?\" + year + \"&api_key=\" + API_KEY)\n",
    "json_to_dict = req.json()\n",
    "json_data = json_to_dict['dataset_data']['data']\n",
    "\n",
    "opens = []\n",
    "diff = []\n",
    "closes = []\n",
    "closes_diff = []\n",
    "traded = []\n",
    "\n",
    "for current in range(len(json_data)):\n",
    "    #Step 3\n",
    "    current_open = json_data[current][1]\n",
    "    if isinstance(current_open, float):\n",
    "        opens.append(current_open)\n",
    "        \n",
    "    #Step 4\n",
    "    high = json_data[current][2]\n",
    "    low = json_data[current][3]\n",
    "    if isinstance(high, float) and isinstance(low, float):\n",
    "        diff.append(high-low)\n",
    "        \n",
    "    #Step 5\n",
    "    current_closes = json_data[current][4]\n",
    "    if isinstance(current_closes, float):\n",
    "        closes.append(current_closes)\n",
    "        \n",
    "    #Step 6\n",
    "    current_traded = json_data[current][6]\n",
    "    if isinstance(current_traded, float):\n",
    "        traded.append(current_traded)\n",
    "                \n",
    "#Step 5 cont.        \n",
    "for x in range(len(closes)-1):\n",
    "    closes_diff.append(max(closes[x+1] - closes[x], closes[x] - closes[x+1]))\n",
    "    \n",
    "#Step 7\n",
    "median = 0\n",
    "traded.sort()\n",
    "if len(traded) % 2 == 1:\n",
    "    median = traded[int(len(traded)/2 +0.5)]\n",
    "else:\n",
    "    median = traded[len(traded)]\n",
    "                    \n",
    "print('The lowest open price was ', min(opens))\n",
    "print('The highest open price was ', max(opens))\n",
    "print('The largest change in one day is ',max(diff))\n",
    "print('The largest change in closing prices between days is ', max(closes_diff))\n",
    "print('The average traded volume is ', (sum(traded)/len(traded)))\n",
    "print('The median traded volume is ', median)\n",
    "req.close()"
   ]
  }
 ],
 "metadata": {
  "kernelspec": {
   "display_name": "Python 3",
   "language": "python",
   "name": "python3"
  },
  "language_info": {
   "codemirror_mode": {
    "name": "ipython",
    "version": 3
   },
   "file_extension": ".py",
   "mimetype": "text/x-python",
   "name": "python",
   "nbconvert_exporter": "python",
   "pygments_lexer": "ipython3",
   "version": "3.8.3"
  }
 },
 "nbformat": 4,
 "nbformat_minor": 2
}
